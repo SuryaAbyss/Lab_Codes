{
  "nbformat": 4,
  "nbformat_minor": 0,
  "metadata": {
    "colab": {
      "provenance": [],
      "authorship_tag": "ABX9TyMYG7xONM3ts4TP8B6zVxpR",
      "include_colab_link": true
    },
    "kernelspec": {
      "name": "python3",
      "display_name": "Python 3"
    },
    "language_info": {
      "name": "python"
    }
  },
  "cells": [
    {
      "cell_type": "markdown",
      "metadata": {
        "id": "view-in-github",
        "colab_type": "text"
      },
      "source": [
        "<a href=\"https://colab.research.google.com/github/SuryaAbyss/Lab_Codes/blob/main/AI_LAB_Sessonal.ipynb\" target=\"_parent\"><img src=\"https://colab.research.google.com/assets/colab-badge.svg\" alt=\"Open In Colab\"/></a>"
      ]
    },
    {
      "cell_type": "code",
      "execution_count": null,
      "metadata": {
        "colab": {
          "base_uri": "https://localhost:8080/"
        },
        "id": "TeIJG2327AIY",
        "outputId": "ae3cac09-a50f-4cd1-a526-54eefb1d8d48"
      },
      "outputs": [
        {
          "output_type": "stream",
          "name": "stdout",
          "text": [
            "Solution Found!\n",
            "Moves: ['Right', 'Down', 'Left', 'Left', 'Up', 'Right', 'Down', 'Right', 'Up', 'Left', 'Left', 'Down', 'Right', 'Right']\n"
          ]
        }
      ],
      "source": [
        "import heapq\n",
        "\n",
        "class PuzzleState:\n",
        "    \"\"\"Represents an 8-puzzle state with board, cost, and previous moves.\"\"\"\n",
        "\n",
        "    def __init__(self, board, parent=None, move=None, g=0):\n",
        "        self.board = board\n",
        "        self.parent = parent\n",
        "        self.move = move\n",
        "        self.g = g\n",
        "        self.h = self.manhattan_distance()\n",
        "        self.f = self.g + self.h\n",
        "\n",
        "    def __lt__(self, other):\n",
        "        return self.f < other.f\n",
        "\n",
        "    def manhattan_distance(self):\n",
        "        \"\"\"Calculates Manhattan distance heuristic.\"\"\"\n",
        "        goal = {1: (0, 0), 2: (0, 1), 3: (0, 2),\n",
        "                4: (1, 0), 5: (1, 1), 6: (1, 2),\n",
        "                7: (2, 0), 8: (2, 1), 0: (2, 2)}\n",
        "        return sum(abs(i - goal[v][0]) + abs(j - goal[v][1])\n",
        "                   for i, row in enumerate(self.board)\n",
        "                   for j, v in enumerate(row) if v)\n",
        "\n",
        "    def get_neighbors(self):\n",
        "        \"\"\"Generates possible moves (Up, Down, Left, Right).\"\"\"\n",
        "        neighbors = []\n",
        "        x, y = next((i, row.index(0)) for i, row in enumerate(self.board) if 0 in row)\n",
        "        moves = {'Up': (-1, 0), 'Down': (1, 0), 'Left': (0, -1), 'Right': (0, 1)}\n",
        "\n",
        "        for move, (dx, dy) in moves.items():\n",
        "            nx, ny = x + dx, y + dy\n",
        "            if 0 <= nx < 3 and 0 <= ny < 3:\n",
        "                new_board = [row[:] for row in self.board]\n",
        "                new_board[x][y], new_board[nx][ny] = new_board[nx][ny], new_board[x][y]\n",
        "                neighbors.append(PuzzleState(new_board, self, move, self.g + 1))\n",
        "\n",
        "        return neighbors\n",
        "\n",
        "def a-star(initial, goal):\n",
        "    \"\"\"A* search to solve 8-puzzle.\"\"\"\n",
        "    start = PuzzleState(initial)\n",
        "    goal = tuple(map(tuple, goal))\n",
        "    open_set = [start]\n",
        "    visited = set()\n",
        "\n",
        "    while open_set:\n",
        "        current = heapq.heappop(open_set)\n",
        "\n",
        "        if tuple(map(tuple, current.board)) == goal:\n",
        "            return reconstruct_path(current)\n",
        "\n",
        "        visited.add(tuple(map(tuple, current.board)))\n",
        "\n",
        "        for neighbor in current.get_neighbors():\n",
        "            if tuple(map(tuple, neighbor.board)) not in visited:\n",
        "                heapq.heappush(open_set, neighbor)\n",
        "\n",
        "    return None\n",
        "\n",
        "def reconstruct_path(state):\n",
        "    \"\"\"Traces back moves from goal to start.\"\"\"\n",
        "    path = []\n",
        "    while state.parent:\n",
        "        path.append(state.move)\n",
        "        state = state.parent\n",
        "    return path[::-1]\n",
        "\n",
        "# Example Input\n",
        "initial_state = [[1, 2, 3], [4, 0, 5], [6, 7, 8]]\n",
        "goal_state = [[1, 2, 3], [4, 5, 6], [7, 8, 0]]\n",
        "\n",
        "# Run A* Algorithm\n",
        "solution = a_star(initial_state, goal_state)\n",
        "\n",
        "# Output Result\n",
        "print(\"Solution Found!\" if solution else \"No solution found.\")\n",
        "if solution:\n",
        "    print(\"Moves:\", solution)\n"
      ]
    },
    {
      "cell_type": "code",
      "source": [],
      "metadata": {
        "id": "rqJdPOed7CC3"
      },
      "execution_count": null,
      "outputs": []
    },
    {
      "cell_type": "code",
      "source": [],
      "metadata": {
        "id": "CwN2JZvK7CKh"
      },
      "execution_count": null,
      "outputs": []
    },
    {
      "cell_type": "code",
      "source": [],
      "metadata": {
        "id": "Z7mEQJ3d7CNM"
      },
      "execution_count": null,
      "outputs": []
    },
    {
      "cell_type": "code",
      "source": [],
      "metadata": {
        "id": "gho-f6-47CP8"
      },
      "execution_count": null,
      "outputs": []
    }
  ]
}